{
 "cells": [
  {
   "cell_type": "code",
   "execution_count": null,
   "metadata": {},
   "outputs": [],
   "source": [
    "import numpy as np\n",
    "import matplotlib.pyplot as plt\n",
    "from tqdm import tqdm\n",
    "\n",
    "from cartpole import CartPole\n",
    "from qlearn import Qagent"
   ]
  },
  {
   "cell_type": "markdown",
   "metadata": {},
   "source": [
    "Инициализируем экземпляры классов и создаём Q-table"
   ]
  },
  {
   "cell_type": "code",
   "execution_count": null,
   "metadata": {},
   "outputs": [],
   "source": [
    "Cartpole = CartPole(frequency_of_discretization=30)\n",
    "Q = Qagent()\n",
    "\n",
    "states, actions = Cartpole.get_states_and_actions()\n",
    "Q.create_q_table(states, actions)"
   ]
  },
  {
   "cell_type": "markdown",
   "metadata": {},
   "source": [
    "Обучаем агента"
   ]
  },
  {
   "cell_type": "code",
   "execution_count": null,
   "metadata": {},
   "outputs": [],
   "source": [
    "#observations = []\n",
    "rewards = []\n",
    "length_of_game = []\n",
    "\n",
    "max_game = 1000000\n",
    "Q.alpha = 5\n",
    "Q.epsilon = 0.5\n",
    "\n",
    "for i_episode in tqdm(range(max_game)):\n",
    "    \n",
    "    reward_in_game = 0\n",
    "    t = 0\n",
    "    \n",
    "    observation = Cartpole.reset()\n",
    "    Q.epsilon *= np.exp(-t / max_game * 2)\n",
    "    \n",
    "    while True:\n",
    "        action = Q.strategy(tuple(observation))\n",
    "        new_observation, reward, done = Cartpole.step(action)\n",
    "        \n",
    "        reward_in_game += reward\n",
    "        t += 1\n",
    "        \n",
    "        if done or (t > 1000):\n",
    "            length_of_game.append(t)\n",
    "            rewards.append(reward_in_game)\n",
    "            break\n",
    "        \n",
    "        Q.update_q_value(tuple(observation), action, tuple(new_observation), reward)  \n",
    "        observation = new_observation\n",
    "        \n",
    "    if i_episode % 50000 == 0:\n",
    "        print(i_episode, np.mean(length_of_game[-50000:]))"
   ]
  },
  {
   "cell_type": "markdown",
   "metadata": {},
   "source": [
    "Смотрим графики суммарных наград за игру и продолжите"
   ]
  },
  {
   "cell_type": "code",
   "execution_count": null,
   "metadata": {},
   "outputs": [],
   "source": [
    "plt.plot(rewards)"
   ]
  },
  {
   "cell_type": "code",
   "execution_count": null,
   "metadata": {},
   "outputs": [],
   "source": [
    "plt.plot(length_of_game)"
   ]
  }
 ],
 "metadata": {
  "kernelspec": {
   "display_name": "Python 3",
   "language": "python",
   "name": "python3"
  },
  "language_info": {
   "codemirror_mode": {
    "name": "ipython",
    "version": 3
   },
   "file_extension": ".py",
   "mimetype": "text/x-python",
   "name": "python",
   "nbconvert_exporter": "python",
   "pygments_lexer": "ipython3",
   "version": "3.8.2"
  }
 },
 "nbformat": 4,
 "nbformat_minor": 4
}
